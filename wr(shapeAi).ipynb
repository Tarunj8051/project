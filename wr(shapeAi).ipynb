{
 "cells": [
  {
   "cell_type": "code",
   "execution_count": 7,
   "metadata": {},
   "outputs": [
    {
     "name": "stdout",
     "output_type": "stream",
     "text": [
      "Enter city name : Karnataka\n",
      "Temperature (in kelvin unit) = 296.35\n",
      "atmospheric pressure (in hPa unit) = 1012\n",
      "humidity (in percentage) = 71\n",
      "description = broken clouds\n"
     ]
    }
   ],
   "source": [
    "import requests, json\n",
    "\n",
    "api_key = \"cdb2208c2a12cb6735a432eebb7ac78e\"\n",
    "\n",
    "base_url = \"http://api.openweathermap.org/data/2.5/weather?\"\n",
    "\n",
    "city_name = input(\"Enter city name : \")\n",
    "\n",
    "\n",
    "complete_url = base_url + \"appid=\" + api_key + \"&q=\" + city_name\n",
    "\n",
    "response = requests.get(complete_url)\n",
    "\n",
    "x = response.json()\n",
    "if x[\"cod\"] != \"404\":\n",
    "    y = x[\"main\"]\n",
    "    current_temperature = y[\"temp\"]\n",
    "    current_pressure = y[\"pressure\"]\n",
    "    current_humidity = y[\"humidity\"]\n",
    "    z = x[\"weather\"]\n",
    "    weather_description = z[0][\"description\"]\n",
    "    \n",
    "    no_1=\"Temperature (in kelvin unit) = \"+str(current_temperature)\n",
    "    no_2=\"atmospheric pressure (in hPa unit) = \"+str(current_pressure)\n",
    "    no_3=\"humidity (in percentage) = \"+str(current_humidity)\n",
    "    no_4=\"description = \"+str(weather_description)\n",
    "    \n",
    "    print(no_1)#current_temperature\n",
    "    print(no_2)#current_pressure\n",
    "    print(no_3)#current_humidity\n",
    "    print(no_4)#weather_description   \n",
    "else:\n",
    "    print(\" City Not Found \")\n",
    "    \n",
    "with open(\"weatherreport.txt\",mode='w')as t:\n",
    "    t.write(no_1)#current_temperature\n",
    "    t.write(\"\\n\"+no_2)#current_pressure\n",
    "    t.write(\"\\n\"+no_3)#current_humidity\n",
    "    t.write(\"\\n\"+no_4)#weather_description   \n",
    "    t.close()\n"
   ]
  },
  {
   "cell_type": "code",
   "execution_count": null,
   "metadata": {},
   "outputs": [],
   "source": []
  }
 ],
 "metadata": {
  "kernelspec": {
   "display_name": "Python 3",
   "language": "python",
   "name": "python3"
  },
  "language_info": {
   "codemirror_mode": {
    "name": "ipython",
    "version": 3
   },
   "file_extension": ".py",
   "mimetype": "text/x-python",
   "name": "python",
   "nbconvert_exporter": "python",
   "pygments_lexer": "ipython3",
   "version": "3.8.5"
  }
 },
 "nbformat": 4,
 "nbformat_minor": 4
}
